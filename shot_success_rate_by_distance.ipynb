{
  "nbformat": 4,
  "nbformat_minor": 0,
  "metadata": {
    "colab": {
      "provenance": [],
      "authorship_tag": "ABX9TyPki+mEuOmjho9OkPeyWRHr",
      "include_colab_link": true
    },
    "kernelspec": {
      "name": "python3",
      "display_name": "Python 3"
    },
    "language_info": {
      "name": "python"
    }
  },
  "cells": [
    {
      "cell_type": "markdown",
      "metadata": {
        "id": "view-in-github",
        "colab_type": "text"
      },
      "source": [
        "<a href=\"https://colab.research.google.com/github/fechinmitchell/CMC_GAA_STATS/blob/main/shot_success_rate_by_distance.ipynb\" target=\"_parent\"><img src=\"https://colab.research.google.com/assets/colab-badge.svg\" alt=\"Open In Colab\"/></a>"
      ]
    },
    {
      "cell_type": "code",
      "execution_count": 2,
      "metadata": {
        "colab": {
          "base_uri": "https://localhost:8080/"
        },
        "id": "7CXyeeus_vwY",
        "outputId": "27db6a53-335f-41db-8cfd-c3d1fb189e6e"
      },
      "outputs": [
        {
          "output_type": "stream",
          "name": "stdout",
          "text": [
            "DistanceCategory\n",
            "0-10m       0.672727\n",
            "10-15m      0.631068\n",
            "15-20m      0.711111\n",
            "20-25m      0.755319\n",
            "25-30m      0.708333\n",
            "30-35m      0.581395\n",
            "35-40m      0.500000\n",
            "40-45m      0.436620\n",
            "45-50m      0.447917\n",
            "50-55m      0.333333\n",
            "55-60m      0.400000\n",
            "Over 60m         NaN\n",
            "Name: IsScore, dtype: float64\n"
          ]
        }
      ],
      "source": [
        "# Import necessary libraries\n",
        "import pandas as pd\n",
        "import numpy as np\n",
        "\n",
        "# Load the dataset from a specified path\n",
        "# Adjust the file path according to where you've uploaded your Excel file in Google Colab\n",
        "df = pd.read_excel('/content/Football_Championship_2023_Shots.xlsx')  # Update the path as needed\n",
        "\n",
        "# Convert 'Score' to a binary indicator for easier calculations\n",
        "df['IsScore'] = df['Score'].apply(lambda x: 1 if x.lower() == 'score' else 0)\n",
        "\n",
        "# Define more granular distance categories\n",
        "bins = [0, 10, 15, 20, 25, 30, 35, 40, 45, 50, 55, 60, np.inf]\n",
        "labels = ['0-10m', '10-15m', '15-20m', '20-25m', '25-30m', '30-35m', '35-40m', '40-45m', '45-50m', '50-55m', '55-60m', 'Over 60m']\n",
        "df['DistanceCategory'] = pd.cut(df['Shot_Distance'], bins=bins, labels=labels)\n",
        "\n",
        "# Calculate success rates by distance category\n",
        "success_rates_by_distance = df.groupby('DistanceCategory')['IsScore'].mean()\n",
        "\n",
        "# Display the success rates by distance category\n",
        "print(success_rates_by_distance)\n",
        "\n"
      ]
    }
  ]
}