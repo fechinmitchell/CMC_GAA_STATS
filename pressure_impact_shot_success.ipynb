{
  "nbformat": 4,
  "nbformat_minor": 0,
  "metadata": {
    "colab": {
      "provenance": [],
      "authorship_tag": "ABX9TyMRD8XxVBKhw/H2yU4ZMKZt",
      "include_colab_link": true
    },
    "kernelspec": {
      "name": "python3",
      "display_name": "Python 3"
    },
    "language_info": {
      "name": "python"
    }
  },
  "cells": [
    {
      "cell_type": "markdown",
      "metadata": {
        "id": "view-in-github",
        "colab_type": "text"
      },
      "source": [
        "<a href=\"https://colab.research.google.com/github/fechinmitchell/CMC_GAA_STATS/blob/main/pressure_impact_shot_success.ipynb\" target=\"_parent\"><img src=\"https://colab.research.google.com/assets/colab-badge.svg\" alt=\"Open In Colab\"/></a>"
      ]
    },
    {
      "cell_type": "code",
      "execution_count": 1,
      "metadata": {
        "colab": {
          "base_uri": "https://localhost:8080/"
        },
        "id": "qGcajsMQDd2x",
        "outputId": "ee84fbb6-d16b-4f95-b731-c1c234e65279"
      },
      "outputs": [
        {
          "output_type": "stream",
          "name": "stdout",
          "text": [
            "Success Rate Under Pressure: 48.40%\n",
            "Success Rate Without Pressure: 65.28%\n"
          ]
        }
      ],
      "source": [
        "# Import necessary libraries\n",
        "import pandas as pd\n",
        "\n",
        "# Load the dataset directly from the specified path in Google Colab\n",
        "df = pd.read_excel('/content/Football_Championship_2023_Shots.xlsx')\n",
        "\n",
        "# Convert 'Score' to a binary indicator (1 if 'Score', else 0)\n",
        "df['IsScore'] = df['Score'].apply(lambda x: 1 if x.lower() == 'score' else 0)\n",
        "\n",
        "# Analyze the impact of pressure on shot success rates\n",
        "# Assuming 'Pressure' column is 'y' for under pressure and 'n' for no pressure\n",
        "success_rate_under_pressure = df[df['Pressure'].str.lower() == 'y']['IsScore'].mean()\n",
        "success_rate_without_pressure = df[df['Pressure'].str.lower() == 'n']['IsScore'].mean()\n",
        "\n",
        "# Display the results\n",
        "print(f\"Success Rate Under Pressure: {success_rate_under_pressure:.2%}\")\n",
        "print(f\"Success Rate Without Pressure: {success_rate_without_pressure:.2%}\")\n"
      ]
    }
  ]
}