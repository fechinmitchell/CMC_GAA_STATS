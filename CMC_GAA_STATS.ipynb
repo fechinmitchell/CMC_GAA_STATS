{
  "nbformat": 4,
  "nbformat_minor": 0,
  "metadata": {
    "colab": {
      "provenance": [],
      "authorship_tag": "ABX9TyPoJ9lvE9h4OS6KsJz2Vo+w",
      "include_colab_link": true
    },
    "kernelspec": {
      "name": "python3",
      "display_name": "Python 3"
    },
    "language_info": {
      "name": "python"
    }
  },
  "cells": [
    {
      "cell_type": "markdown",
      "metadata": {
        "id": "view-in-github",
        "colab_type": "text"
      },
      "source": [
        "<a href=\"https://colab.research.google.com/github/fechinmitchell/CMC_GAA_STATS/blob/main/CMC_GAA_STATS.ipynb\" target=\"_parent\"><img src=\"https://colab.research.google.com/assets/colab-badge.svg\" alt=\"Open In Colab\"/></a>"
      ]
    },
    {
      "cell_type": "code",
      "execution_count": null,
      "metadata": {
        "colab": {
          "base_uri": "https://localhost:8080/"
        },
        "id": "_helpR9CwYGR",
        "outputId": "6587bab9-822f-4485-bca8-c322ffb6a6a4"
      },
      "outputs": [
        {
          "output_type": "stream",
          "name": "stdout",
          "text": [
            "Total Efficiency: 0.5757229624537874\n",
            "Average Shot Distance with Pressure: 27.469219999999996\n",
            "Average Shot Distance without Pressure: 33.02622668579627\n",
            "Success Rate for Distant Shots without Pressure: 0.5300925925925926\n",
            "Success Rate for Closer Shots with Pressure: 0.5517241379310345\n"
          ]
        }
      ],
      "source": [
        "import pandas as pd\n",
        "\n",
        "# Load your dataset\n",
        "df = pd.read_excel('/content/Football_Championship_2023_Shots.xlsx')  # Update the path to your file\n",
        "\n",
        "# Pre-process the data if necessary (e.g., converting data types)\n",
        "# This step depends on the structure of your dataset and is optional\n",
        "\n",
        "# Define functions to calculate various statistics\n",
        "\n",
        "def calculate_efficiency(df):\n",
        "    attempts = df.groupby('TeamName').size()\n",
        "    scores = df[df['Score'] == 'Score'].groupby('TeamName').size()\n",
        "    efficiency = (scores / attempts).fillna(0)\n",
        "    return efficiency.mean()\n",
        "\n",
        "def calculate_average_shot_distance_with_and_without_pressure(df):\n",
        "    shots_with_pressure = df[df['Pressure'] == 'y']['Shot_Distance'].mean()\n",
        "    shots_without_pressure = df[df['Pressure'] == 'n']['Shot_Distance'].mean()\n",
        "    return shots_with_pressure, shots_without_pressure\n",
        "\n",
        "def calculate_success_rate_by_distance_and_pressure(df):\n",
        "    avg_shot_distance = df['Shot_Distance'].mean()\n",
        "    success_rate_distance_no_pressure = df[(df['Shot_Distance'] > avg_shot_distance) & (df['Pressure'] == 'n') & (df['Score'] == 'Score')].shape[0] / df[(df['Shot_Distance'] > avg_shot_distance) & (df['Pressure'] == 'n')].shape[0]\n",
        "    success_rate_closer_with_pressure = df[(df['Shot_Distance'] <= avg_shot_distance) & (df['Pressure'] == 'y') & (df['Score'] == 'Score')].shape[0] / df[(df['Shot_Distance'] <= avg_shot_distance) & (df['Pressure'] == 'y')].shape[0]\n",
        "    return success_rate_distance_no_pressure, success_rate_closer_with_pressure\n",
        "\n",
        "# Calculate overall statistics\n",
        "total_efficiency = calculate_efficiency(df)\n",
        "avg_distance_with_pressure, avg_distance_without_pressure = calculate_average_shot_distance_with_and_without_pressure(df)\n",
        "success_rate_distance_no_pressure, success_rate_closer_with_pressure = calculate_success_rate_by_distance_and_pressure(df)\n",
        "\n",
        "print(f\"Total Efficiency: {total_efficiency}\")\n",
        "print(f\"Average Shot Distance with Pressure: {avg_distance_with_pressure}\")\n",
        "print(f\"Average Shot Distance without Pressure: {avg_distance_without_pressure}\")\n",
        "print(f\"Success Rate for Distant Shots without Pressure: {success_rate_distance_no_pressure}\")\n",
        "print(f\"Success Rate for Closer Shots with Pressure: {success_rate_closer_with_pressure}\")\n"
      ]
    }
  ]
}