{
  "nbformat": 4,
  "nbformat_minor": 0,
  "metadata": {
    "colab": {
      "provenance": [],
      "authorship_tag": "ABX9TyPp+rjttGNJq0OX4ladAfPg",
      "include_colab_link": true
    },
    "kernelspec": {
      "name": "python3",
      "display_name": "Python 3"
    },
    "language_info": {
      "name": "python"
    }
  },
  "cells": [
    {
      "cell_type": "markdown",
      "metadata": {
        "id": "view-in-github",
        "colab_type": "text"
      },
      "source": [
        "<a href=\"https://colab.research.google.com/github/fechinmitchell/CMC_GAA_STATS/blob/main/GAA_Team_Scoring_Zone_Efficiency.ipynb\" target=\"_parent\"><img src=\"https://colab.research.google.com/assets/colab-badge.svg\" alt=\"Open In Colab\"/></a>"
      ]
    },
    {
      "cell_type": "code",
      "execution_count": 5,
      "metadata": {
        "colab": {
          "base_uri": "https://localhost:8080/"
        },
        "id": "oihxGupR00Bv",
        "outputId": "c259a3b8-aafd-4294-9926-5d07f5ae87ef"
      },
      "outputs": [
        {
          "output_type": "stream",
          "name": "stdout",
          "text": [
            "Top 10 Teams Inside Scoring Zone:\n",
            "Score     Miss  Score  success_rate\n",
            "TeamName                           \n",
            "Donegal      1      7      0.875000\n",
            "Galway       2     14      0.875000\n",
            "Sligo        1      7      0.875000\n",
            "Kerry       11     42      0.792453\n",
            "Armagh       8     22      0.733333\n",
            "Derry       10     24      0.705882\n",
            "Clare        3      7      0.700000\n",
            "Louth        5     10      0.666667\n",
            "Dublin      19     35      0.648148\n",
            "Monaghan    12     22      0.647059\n",
            "\n",
            "Top 10 Teams Outside Scoring Zone:\n",
            "Score      Miss  Score  success_rate\n",
            "TeamName                            \n",
            "Dublin       44     79      0.642276\n",
            "Donegal       7     12      0.631579\n",
            "Galway       15     24      0.615385\n",
            "Roscommon     8     11      0.578947\n",
            "Mayo         28     38      0.575758\n",
            "Tyrone       22     28      0.560000\n",
            "Cork         23     29      0.557692\n",
            "Kerry        50     61      0.549550\n",
            "Louth        14     16      0.533333\n",
            "Derry        33     35      0.514706\n"
          ]
        }
      ],
      "source": [
        "import pandas as pd\n",
        "import matplotlib.pyplot as plt\n",
        "\n",
        "# Load the dataset\n",
        "df = pd.read_excel('/content/Football_Championship_2023_Shots.xlsx')\n",
        "\n",
        "# Define the scoring zone\n",
        "GOAL_LINE = 145  # The goal line's x-coordinate\n",
        "SCORING_ZONE_DEPTH = 32  # The depth of the scoring zone from the goal line\n",
        "CENTER_WIDTH = 44  # The center of the pitch width-wise\n",
        "SCORING_ZONE_HALF_WIDTH = 28  # Half the width of the scoring zone\n",
        "\n",
        "# Function to check if a shot is within the scoring zone\n",
        "def is_within_scoring_zone(x, y):\n",
        "    return (GOAL_LINE - SCORING_ZONE_DEPTH) <= x <= GOAL_LINE and \\\n",
        "           (CENTER_WIDTH - SCORING_ZONE_HALF_WIDTH) <= y <= (CENTER_WIDTH + SCORING_ZONE_HALF_WIDTH)\n",
        "\n",
        "# Calculate if each shot is within the scoring zone\n",
        "df['is_scoring_zone'] = df.apply(lambda row: is_within_scoring_zone(row['x'], row['y']), axis=1)\n",
        "\n",
        "# Group by team and scoring zone flag, then calculate success rates\n",
        "scoring_stats = df.groupby(['TeamName', 'is_scoring_zone', 'Score'])['Score'].count().unstack().fillna(0)\n",
        "\n",
        "# Calculate success rates\n",
        "scoring_stats['success_rate'] = scoring_stats['Score'] / (scoring_stats['Score'] + scoring_stats['Miss'])\n",
        "\n",
        "# Get the top 5 teams with the best success rates inside the scoring zone\n",
        "top_teams_inside = scoring_stats.xs(True, level='is_scoring_zone').sort_values('success_rate', ascending=False).head(10)\n",
        "\n",
        "# Get the top 5 teams with the best success rates outside the scoring zone\n",
        "top_teams_outside = scoring_stats.xs(False, level='is_scoring_zone').sort_values('success_rate', ascending=False).head(10)\n",
        "\n",
        "print(\"Top 10 Teams Inside Scoring Zone:\")\n",
        "print(top_teams_inside)\n",
        "\n",
        "print(\"\\nTop 10 Teams Outside Scoring Zone:\")\n",
        "print(top_teams_outside)\n",
        "\n"
      ]
    }
  ]
}