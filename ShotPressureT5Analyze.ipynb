{
  "nbformat": 4,
  "nbformat_minor": 0,
  "metadata": {
    "colab": {
      "provenance": [],
      "authorship_tag": "ABX9TyOFw8fkO0vjldX8BdvzVor9",
      "include_colab_link": true
    },
    "kernelspec": {
      "name": "python3",
      "display_name": "Python 3"
    },
    "language_info": {
      "name": "python"
    }
  },
  "cells": [
    {
      "cell_type": "markdown",
      "metadata": {
        "id": "view-in-github",
        "colab_type": "text"
      },
      "source": [
        "<a href=\"https://colab.research.google.com/github/fechinmitchell/CMC_GAA_STATS/blob/main/ShotPressureT5Analyze.ipynb\" target=\"_parent\"><img src=\"https://colab.research.google.com/assets/colab-badge.svg\" alt=\"Open In Colab\"/></a>"
      ]
    },
    {
      "cell_type": "code",
      "execution_count": 3,
      "metadata": {
        "colab": {
          "base_uri": "https://localhost:8080/"
        },
        "id": "9y1wUYIn9Hm2",
        "outputId": "3166deeb-5a0a-4d49-fb3e-ce60203d0511"
      },
      "outputs": [
        {
          "output_type": "stream",
          "name": "stdout",
          "text": [
            "Top 5 Players Scoring Points Under Pressure:\n",
            "PlayerName\n",
            "David Clifford     17\n",
            "Sean O'Shea         8\n",
            "Con O'Callaghan     7\n",
            "Shane McGuigan      6\n",
            "Gary Mohan          6\n",
            "Name: IsScore, dtype: int64 \n",
            "\n",
            "Top 5 Worst Players Scoring Points Under Pressure:\n",
            "PlayerName\n",
            "Tony Brosnan     0\n",
            "Ronan Lanigan    0\n",
            "Ian Maguire      0\n",
            "Greg McCabe      0\n",
            "Gavin White      0\n",
            "Name: IsScore, dtype: int64 \n",
            "\n",
            "Top 5 Players Scoring Points Without Pressure:\n",
            "PlayerName\n",
            "David Clifford     22\n",
            "Cormac Costello    20\n",
            "Shane McGuigan     20\n",
            "Sean O'Shea        17\n",
            "Rian O'Neill       17\n",
            "Name: IsScore, dtype: int64 \n",
            "\n",
            "Top 5 Worst Players Scoring Points Without Pressure:\n",
            "PlayerName\n",
            "Jason Duffy       0\n",
            "Niall Sludden     0\n",
            "Niall Sharkey     0\n",
            "Ethan Rafferty    0\n",
            "Conor Loftus      0\n",
            "Name: IsScore, dtype: int64 \n",
            "\n"
          ]
        }
      ],
      "source": [
        "import pandas as pd\n",
        "\n",
        "# Load the dataset\n",
        "file_path = '/content/Football_Championship_2023_Shots.xlsx'\n",
        "df = pd.read_excel(file_path)\n",
        "\n",
        "# Pre-process the data: Convert 'Score' to a binary indicator for easier calculations\n",
        "df['IsScore'] = df['Score'].apply(lambda x: 1 if x.lower() == 'score' else 0)\n",
        "\n",
        "# Function to calculate statistics based on pressure\n",
        "def calculate_stats(df):\n",
        "    # Split the dataframe based on pressure\n",
        "    shots_under_pressure = df[df['Pressure'] == 'y']\n",
        "    shots_without_pressure = df[df['Pressure'] == 'n']\n",
        "\n",
        "    # Calculate top and worst performers under pressure\n",
        "    top_scorers_under_pressure = shots_under_pressure.groupby('PlayerName')['IsScore'].sum().sort_values(ascending=False).head(5)\n",
        "    worst_scorers_under_pressure = shots_under_pressure.groupby('PlayerName')['IsScore'].sum().sort_values(ascending=True).head(5)\n",
        "\n",
        "    # Calculate top and worst performers without pressure\n",
        "    top_scorers_without_pressure = shots_without_pressure.groupby('PlayerName')['IsScore'].sum().sort_values(ascending=False).head(5)\n",
        "    worst_scorers_without_pressure = shots_without_pressure.groupby('PlayerName')['IsScore'].sum().sort_values(ascending=True).head(5)\n",
        "\n",
        "    return top_scorers_under_pressure, worst_scorers_under_pressure, top_scorers_without_pressure, worst_scorers_without_pressure\n",
        "\n",
        "# Calculate the stats\n",
        "top_under_pressure, worst_under_pressure, top_without_pressure, worst_without_pressure = calculate_stats(df)\n",
        "\n",
        "# Print the results\n",
        "print(\"Top 5 Players Scoring Points Under Pressure:\")\n",
        "print(top_under_pressure, \"\\n\")\n",
        "\n",
        "print(\"Top 5 Worst Players Scoring Points Under Pressure:\")\n",
        "print(worst_under_pressure, \"\\n\")\n",
        "\n",
        "print(\"Top 5 Players Scoring Points Without Pressure:\")\n",
        "print(top_without_pressure, \"\\n\")\n",
        "\n",
        "print(\"Top 5 Worst Players Scoring Points Without Pressure:\")\n",
        "print(worst_without_pressure, \"\\n\")\n"
      ]
    }
  ]
}