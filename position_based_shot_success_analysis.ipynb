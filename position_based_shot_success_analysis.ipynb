{
  "nbformat": 4,
  "nbformat_minor": 0,
  "metadata": {
    "colab": {
      "provenance": [],
      "authorship_tag": "ABX9TyPwULRs3/Y+HfVbI2BPjCRY",
      "include_colab_link": true
    },
    "kernelspec": {
      "name": "python3",
      "display_name": "Python 3"
    },
    "language_info": {
      "name": "python"
    }
  },
  "cells": [
    {
      "cell_type": "markdown",
      "metadata": {
        "id": "view-in-github",
        "colab_type": "text"
      },
      "source": [
        "<a href=\"https://colab.research.google.com/github/fechinmitchell/CMC_GAA_STATS/blob/main/position_based_shot_success_analysis.ipynb\" target=\"_parent\"><img src=\"https://colab.research.google.com/assets/colab-badge.svg\" alt=\"Open In Colab\"/></a>"
      ]
    },
    {
      "cell_type": "code",
      "execution_count": 2,
      "metadata": {
        "id": "nAfG8X2OBGcM",
        "colab": {
          "base_uri": "https://localhost:8080/"
        },
        "outputId": "21a5981c-288b-4cf6-d594-e7def4508423"
      },
      "outputs": [
        {
          "output_type": "stream",
          "name": "stdout",
          "text": [
            "Shot Success Rates by Position:\n",
            "Position\n",
            "back          0.439759\n",
            "forward       0.614549\n",
            "goalkeeper    0.473684\n",
            "midfielder    0.591549\n",
            "not sure      0.000000\n",
            "r             0.000000\n",
            "Name: IsScore, dtype: float64\n"
          ]
        }
      ],
      "source": [
        "# Import necessary libraries\n",
        "import pandas as pd\n",
        "\n",
        "# Load the dataset directly from the specified path in Google Colab\n",
        "df = pd.read_excel('/content/Football_Championship_2023_Shots.xlsx')\n",
        "\n",
        "# Convert 'Score' to a binary indicator for easier calculations\n",
        "# Adjust this line if your data uses different indicators for scoring\n",
        "df['IsScore'] = df['Score'].apply(lambda x: 1 if x.lower() == 'score' else 0)\n",
        "\n",
        "# Ensure the 'Position' column is correctly formatted (if necessary)\n",
        "# This step is optional and depends on the consistency of your 'Position' data\n",
        "df['Position'] = df['Position'].str.lower().str.strip()\n",
        "\n",
        "# Calculate success rates by player position\n",
        "success_rates_by_position = df.groupby('Position')['IsScore'].mean()\n",
        "\n",
        "# Display the success rates by position\n",
        "print(\"Shot Success Rates by Position:\")\n",
        "print(success_rates_by_position)\n",
        "\n"
      ]
    }
  ]
}