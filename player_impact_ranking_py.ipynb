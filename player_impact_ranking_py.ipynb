{
  "nbformat": 4,
  "nbformat_minor": 0,
  "metadata": {
    "colab": {
      "provenance": [],
      "authorship_tag": "ABX9TyM76p4/LcYSgunObM9T3IaD",
      "include_colab_link": true
    },
    "kernelspec": {
      "name": "python3",
      "display_name": "Python 3"
    },
    "language_info": {
      "name": "python"
    }
  },
  "cells": [
    {
      "cell_type": "markdown",
      "metadata": {
        "id": "view-in-github",
        "colab_type": "text"
      },
      "source": [
        "<a href=\"https://colab.research.google.com/github/fechinmitchell/CMC_GAA_STATS/blob/main/player_impact_ranking_py.ipynb\" target=\"_parent\"><img src=\"https://colab.research.google.com/assets/colab-badge.svg\" alt=\"Open In Colab\"/></a>"
      ]
    },
    {
      "cell_type": "code",
      "execution_count": 8,
      "metadata": {
        "colab": {
          "base_uri": "https://localhost:8080/"
        },
        "id": "M11dByaPpa3G",
        "outputId": "f2ce289a-b9b8-413f-8147-ebf27ef10fc7"
      },
      "outputs": [
        {
          "output_type": "stream",
          "name": "stdout",
          "text": [
            "PlayerName\n",
            "David Clifford     31.5\n",
            "Colm Basquel       22.5\n",
            "Sean O'Shea        17.5\n",
            "Con O'Callaghan    15.5\n",
            "Matthew Tierney    14.5\n",
            "Paul Mannion       13.5\n",
            "Paddy Small        13.0\n",
            "Conor McCarthy     13.0\n",
            "Sean Bulger        13.0\n",
            "Brendan Rogers     13.0\n",
            "Name: PlayerImpactScore, dtype: float64\n"
          ]
        }
      ],
      "source": [
        "import pandas as pd\n",
        "\n",
        "# Load the dataset\n",
        "df = pd.read_excel('/content/Football_Championship_2023_Shots.xlsx')  # Make sure to adjust the file path accordingly\n",
        "\n",
        "# Function to calculate the game's critical moments\n",
        "def critical_moment(row):\n",
        "    if (row['Half'] == 1 and row['Minute'] > 30) or (row['Half'] == 2 and row['Minute'] > 30):\n",
        "        return 1.5\n",
        "    return 1\n",
        "\n",
        "# Function to calculate the impact score\n",
        "def impact_score(row):\n",
        "    # Basic score for scoring a point or a goal, you might want to adjust the values\n",
        "    base_score = 1 if row['Action'] == 'point' else 3 if row['Action'] == 'goal' else 0\n",
        "\n",
        "    # Check if the shot was under pressure\n",
        "    pressure_weight = 1.5 if row['Pressure'] == 'y' else 1\n",
        "\n",
        "    # Calculate the critical moment weight\n",
        "    critical_weight = critical_moment(row)\n",
        "\n",
        "    # Final impact score is the product of the base score, pressure, and critical moment weight\n",
        "    return base_score * pressure_weight * critical_weight\n",
        "\n",
        "# Apply the function to calculate the impact score for each shot\n",
        "df['PlayerImpactScore'] = df.apply(impact_score, axis=1)\n",
        "\n",
        "# Group by player and sum up the impact scores\n",
        "player_impact = df.groupby('PlayerName')['PlayerImpactScore'].sum().sort_values(ascending=False)\n",
        "\n",
        "# Get the top 10 players by impact score\n",
        "top_players_by_impact = player_impact.head(10)\n",
        "\n",
        "print(top_players_by_impact)\n",
        "\n"
      ]
    }
  ]
}